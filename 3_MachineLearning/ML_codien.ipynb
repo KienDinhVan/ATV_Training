{
 "cells": [
  {
   "cell_type": "code",
   "execution_count": 6,
   "metadata": {},
   "outputs": [],
   "source": [
    "import cv2\n",
    "import numpy as np\n",
    "import pandas as pd\n",
    "from tensorflow.keras.datasets import cifar10\n",
    "from sklearn.metrics import accuracy_score, confusion_matrix, classification_report"
   ]
  },
  {
   "cell_type": "markdown",
   "metadata": {},
   "source": [
    "### 1. KNN"
   ]
  },
  {
   "cell_type": "code",
   "execution_count": 19,
   "metadata": {},
   "outputs": [
    {
     "name": "stdout",
     "output_type": "stream",
     "text": [
      "(50000, 32, 32, 3) (10000, 32, 32, 3)\n"
     ]
    }
   ],
   "source": [
    "(X_train, y_train), (X_test, y_test) = cifar10.load_data()\n",
    "print(X_train.shape, X_test.shape)"
   ]
  },
  {
   "cell_type": "code",
   "execution_count": 22,
   "metadata": {},
   "outputs": [
    {
     "data": {
      "text/plain": [
       "array([[6.],\n",
       "       [9.],\n",
       "       [9.],\n",
       "       ...,\n",
       "       [9.],\n",
       "       [1.],\n",
       "       [1.]], dtype=float32)"
      ]
     },
     "execution_count": 22,
     "metadata": {},
     "output_type": "execute_result"
    }
   ],
   "source": [
    "y_train = y_train.astype(np.float32)\n",
    "y_test = y_test.astype(np.float32)\n",
    "y_train"
   ]
  },
  {
   "cell_type": "code",
   "execution_count": 23,
   "metadata": {},
   "outputs": [
    {
     "data": {
      "text/plain": [
       "(10000, 3072)"
      ]
     },
     "execution_count": 23,
     "metadata": {},
     "output_type": "execute_result"
    }
   ],
   "source": [
    "X_train = X_train.reshape(X_train.shape[0], -1).astype(np.float32)\n",
    "X_test = X_test.reshape(X_test.shape[0], -1).astype(np.float32)\n",
    "X_test.shape"
   ]
  },
  {
   "cell_type": "code",
   "execution_count": 24,
   "metadata": {},
   "outputs": [
    {
     "data": {
      "text/plain": [
       "True"
      ]
     },
     "execution_count": 24,
     "metadata": {},
     "output_type": "execute_result"
    }
   ],
   "source": [
    "knn = cv2.ml.KNearest_create()\n",
    "knn.train(X_train, cv2.ml.ROW_SAMPLE, y_train)"
   ]
  },
  {
   "cell_type": "code",
   "execution_count": 35,
   "metadata": {},
   "outputs": [
    {
     "name": "stdout",
     "output_type": "stream",
     "text": [
      "[[2.]\n",
      " [8.]\n",
      " [8.]\n",
      " ...\n",
      " [5.]\n",
      " [6.]\n",
      " [4.]]\n"
     ]
    }
   ],
   "source": [
    "_, result, _, _ = knn.findNearest(X_test, 5)\n",
    "print(result)"
   ]
  },
  {
   "cell_type": "code",
   "execution_count": 38,
   "metadata": {},
   "outputs": [
    {
     "name": "stdout",
     "output_type": "stream",
     "text": [
      "Accuracy: 33.98\n"
     ]
    }
   ],
   "source": [
    "count = 0\n",
    "for i in (y_test == result):\n",
    "    if i == [True]:\n",
    "        count +=1\n",
    "print(f'Accuracy: {100*count/y_test.shape[0]}')"
   ]
  },
  {
   "cell_type": "code",
   "execution_count": 41,
   "metadata": {},
   "outputs": [
    {
     "name": "stdout",
     "output_type": "stream",
     "text": [
      "0.3398\n",
      "              precision    recall  f1-score   support\n",
      "\n",
      "         0.0       0.38      0.54      0.45      1000\n",
      "         1.0       0.65      0.20      0.31      1000\n",
      "         2.0       0.23      0.45      0.30      1000\n",
      "         3.0       0.29      0.22      0.25      1000\n",
      "         4.0       0.24      0.51      0.33      1000\n",
      "         5.0       0.39      0.22      0.28      1000\n",
      "         6.0       0.35      0.25      0.29      1000\n",
      "         7.0       0.68      0.21      0.32      1000\n",
      "         8.0       0.40      0.66      0.50      1000\n",
      "         9.0       0.70      0.14      0.23      1000\n",
      "\n",
      "    accuracy                           0.34     10000\n",
      "   macro avg       0.43      0.34      0.33     10000\n",
      "weighted avg       0.43      0.34      0.33     10000\n",
      "\n"
     ]
    }
   ],
   "source": [
    "print(accuracy_score(y_test, result))\n",
    "print(classification_report(y_test, result))"
   ]
  },
  {
   "cell_type": "markdown",
   "metadata": {},
   "source": [
    "### 2. SVM"
   ]
  },
  {
   "cell_type": "code",
   "execution_count": 46,
   "metadata": {},
   "outputs": [
    {
     "data": {
      "text/plain": [
       "array([[6],\n",
       "       [9],\n",
       "       [9],\n",
       "       ...,\n",
       "       [9],\n",
       "       [1],\n",
       "       [1]], dtype=uint64)"
      ]
     },
     "execution_count": 46,
     "metadata": {},
     "output_type": "execute_result"
    }
   ],
   "source": [
    "y_train1 = y_train.astype(np.uint)\n",
    "y_train1"
   ]
  },
  {
   "cell_type": "code",
   "execution_count": 47,
   "metadata": {},
   "outputs": [
    {
     "data": {
      "text/plain": [
       "True"
      ]
     },
     "execution_count": 47,
     "metadata": {},
     "output_type": "execute_result"
    }
   ],
   "source": [
    "svm = cv2.ml.SVM_create()\n",
    "svm.setKernel(cv2.ml.SVM_LINEAR)\n",
    "svm.setType(cv2.ml.SVM_C_SVC)\n",
    "svm.train(X_train, cv2.ml.ROW_SAMPLE, y_train1)"
   ]
  },
  {
   "cell_type": "code",
   "execution_count": 48,
   "metadata": {},
   "outputs": [],
   "source": [
    "_, result = svm.predict(X_test)"
   ]
  },
  {
   "cell_type": "code",
   "execution_count": 51,
   "metadata": {},
   "outputs": [],
   "source": [
    "result1 = result.astype(np.uint)\n",
    "y_test1 = y_test.astype(np.uint)"
   ]
  },
  {
   "cell_type": "code",
   "execution_count": 52,
   "metadata": {},
   "outputs": [
    {
     "name": "stdout",
     "output_type": "stream",
     "text": [
      "0.1492\n",
      "              precision    recall  f1-score   support\n",
      "\n",
      "         0.0       0.11      0.05      0.07      1000\n",
      "         1.0       0.18      0.33      0.23      1000\n",
      "         2.0       0.12      0.05      0.07      1000\n",
      "         3.0       0.11      0.20      0.14      1000\n",
      "         4.0       0.22      0.04      0.07      1000\n",
      "         5.0       0.16      0.35      0.22      1000\n",
      "         6.0       0.18      0.08      0.11      1000\n",
      "         7.0       0.18      0.16      0.17      1000\n",
      "         8.0       0.10      0.10      0.10      1000\n",
      "         9.0       0.16      0.13      0.14      1000\n",
      "\n",
      "    accuracy                           0.15     10000\n",
      "   macro avg       0.15      0.15      0.13     10000\n",
      "weighted avg       0.15      0.15      0.13     10000\n",
      "\n"
     ]
    }
   ],
   "source": [
    "print(accuracy_score(y_test, result))\n",
    "print(classification_report(y_test, result))"
   ]
  },
  {
   "cell_type": "markdown",
   "metadata": {},
   "source": [
    "- Do ảnh không phải linear nên sử dụng SVM_LINEAR cho ra kết quả rất tệ. Dùng RBF sẽ đạt kết quả accuracy cao hơn nhưng thời gian train có thể lâu hơn rất nhiều (Có thể dùng PCA để giảm số feature xuống)"
   ]
  },
  {
   "cell_type": "code",
   "execution_count": 53,
   "metadata": {},
   "outputs": [
    {
     "ename": "KeyboardInterrupt",
     "evalue": "",
     "output_type": "error",
     "traceback": [
      "\u001b[1;31m---------------------------------------------------------------------------\u001b[0m",
      "\u001b[1;31mKeyboardInterrupt\u001b[0m                         Traceback (most recent call last)",
      "Cell \u001b[1;32mIn[53], line 2\u001b[0m\n\u001b[0;32m      1\u001b[0m svm\u001b[38;5;241m.\u001b[39msetKernel(cv2\u001b[38;5;241m.\u001b[39mml\u001b[38;5;241m.\u001b[39mSVM_RBF)\n\u001b[1;32m----> 2\u001b[0m \u001b[43msvm\u001b[49m\u001b[38;5;241;43m.\u001b[39;49m\u001b[43mtrain\u001b[49m\u001b[43m(\u001b[49m\u001b[43mX_train\u001b[49m\u001b[43m,\u001b[49m\u001b[43m \u001b[49m\u001b[43mcv2\u001b[49m\u001b[38;5;241;43m.\u001b[39;49m\u001b[43mml\u001b[49m\u001b[38;5;241;43m.\u001b[39;49m\u001b[43mROW_SAMPLE\u001b[49m\u001b[43m,\u001b[49m\u001b[43m \u001b[49m\u001b[43my_train1\u001b[49m\u001b[43m)\u001b[49m\n\u001b[0;32m      3\u001b[0m _, result2 \u001b[38;5;241m=\u001b[39m svm\u001b[38;5;241m.\u001b[39mpredict(X_test)\n\u001b[0;32m      4\u001b[0m \u001b[38;5;28mprint\u001b[39m(accuracy_score(y_test, result2))\n",
      "\u001b[1;31mKeyboardInterrupt\u001b[0m: "
     ]
    }
   ],
   "source": [
    "svm.setKernel(cv2.ml.SVM_RBF)\n",
    "svm.train(X_train, cv2.ml.ROW_SAMPLE, y_train1)\n",
    "_, result2 = svm.predict(X_test)\n",
    "print(accuracy_score(y_test, result2))\n",
    "print(classification_report(y_test, result2))"
   ]
  }
 ],
 "metadata": {
  "kernelspec": {
   "display_name": ".venv",
   "language": "python",
   "name": "python3"
  },
  "language_info": {
   "codemirror_mode": {
    "name": "ipython",
    "version": 3
   },
   "file_extension": ".py",
   "mimetype": "text/x-python",
   "name": "python",
   "nbconvert_exporter": "python",
   "pygments_lexer": "ipython3",
   "version": "3.12.7"
  }
 },
 "nbformat": 4,
 "nbformat_minor": 2
}
