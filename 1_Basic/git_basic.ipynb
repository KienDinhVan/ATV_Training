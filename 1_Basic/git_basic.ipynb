{
 "cells": [
  {
   "cell_type": "markdown",
   "metadata": {},
   "source": [
    "### 1. Một vài command thông thường"
   ]
  },
  {
   "cell_type": "code",
   "execution_count": null,
   "metadata": {},
   "outputs": [],
   "source": [
    "git clone <link> # Clone 1 github repo\n",
    "git init # Khởi tạo git\n",
    "git status # Kiểm tra trạng thái file\n",
    "git add <file name>/ git add . # Thêm file vào stagging area\n",
    "git commit -m \"Commit\" # Commit về thay đổi\n",
    "git push origin <branch name> # Đẩy code lên repo\n",
    "git pull origin <branch name> # Kéo code về\n",
    "git branch # Check các branch\n",
    "git checkout -b <branch name> # Chuyển sang một branch mới\n",
    "git checkout <branch name> # Chuyển sang branch sẵn có"
   ]
  },
  {
   "cell_type": "markdown",
   "metadata": {},
   "source": [
    "### 2. Git flow"
   ]
  },
  {
   "cell_type": "markdown",
   "metadata": {},
   "source": [
    "- Main chứa code ổn định có thể release luôn\n",
    "- develop là nhánh chính dùng để phát triển, merge các feature vào nhánh này trước"
   ]
  },
  {
   "cell_type": "code",
   "execution_count": null,
   "metadata": {},
   "outputs": [],
   "source": [
    "git checkout feature/<tên tính năng> # Thêm tính năng mới cho sản phẩm\n",
    "git checkout release/<version> # Phiên bản mới của sản phẩm\n",
    "git check out hotfix/<tên lỗi> # Lỗi cần sửa gấp"
   ]
  }
 ],
 "metadata": {
  "kernelspec": {
   "display_name": ".venv",
   "language": "python",
   "name": "python3"
  },
  "language_info": {
   "codemirror_mode": {
    "name": "ipython",
    "version": 3
   },
   "file_extension": ".py",
   "mimetype": "text/x-python",
   "name": "python",
   "nbconvert_exporter": "python",
   "pygments_lexer": "ipython3",
   "version": "3.12.7"
  }
 },
 "nbformat": 4,
 "nbformat_minor": 2
}
